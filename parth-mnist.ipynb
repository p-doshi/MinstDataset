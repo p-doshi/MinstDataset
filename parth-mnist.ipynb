{
 "cells": [
  {
   "cell_type": "code",
   "execution_count": 1,
   "id": "a9772cdc",
   "metadata": {
    "_cell_guid": "b1076dfc-b9ad-4769-8c92-a6c4dae69d19",
    "_uuid": "8f2839f25d086af736a60e9eeb907d3b93b6e0e5",
    "execution": {
     "iopub.execute_input": "2024-04-17T20:09:07.481820Z",
     "iopub.status.busy": "2024-04-17T20:09:07.481290Z",
     "iopub.status.idle": "2024-04-17T20:09:13.520714Z",
     "shell.execute_reply": "2024-04-17T20:09:13.519653Z"
    },
    "papermill": {
     "duration": 6.048498,
     "end_time": "2024-04-17T20:09:13.523839",
     "exception": false,
     "start_time": "2024-04-17T20:09:07.475341",
     "status": "completed"
    },
    "tags": []
   },
   "outputs": [],
   "source": [
    "import numpy as np\n",
    "import pandas as pd\n",
    "from matplotlib import pyplot as plt\n",
    "\n",
    "data = pd.read_csv('/kaggle/input/digit-recognizer/train.csv')"
   ]
  },
  {
   "cell_type": "code",
   "execution_count": 2,
   "id": "e888bab6",
   "metadata": {
    "execution": {
     "iopub.execute_input": "2024-04-17T20:09:13.534677Z",
     "iopub.status.busy": "2024-04-17T20:09:13.533442Z",
     "iopub.status.idle": "2024-04-17T20:09:14.689516Z",
     "shell.execute_reply": "2024-04-17T20:09:14.688450Z"
    },
    "papermill": {
     "duration": 1.16496,
     "end_time": "2024-04-17T20:09:14.692509",
     "exception": false,
     "start_time": "2024-04-17T20:09:13.527549",
     "status": "completed"
    },
    "tags": []
   },
   "outputs": [],
   "source": [
    "data = np.array(data)\n",
    "m, n = data.shape\n",
    "np.random.shuffle(data) \n",
    "\n",
    "data_dev = data[0:1000].T\n",
    "Y_dev = data_dev[0]\n",
    "X_dev = data_dev[1:n]\n",
    "X_dev = X_dev / 255.\n",
    "\n",
    "data_train = data[1000:m].T\n",
    "Y_train = data_train[0]\n",
    "X_train = data_train[1:n]\n",
    "X_train = X_train / 255."
   ]
  },
  {
   "cell_type": "code",
   "execution_count": 3,
   "id": "42b19359",
   "metadata": {
    "execution": {
     "iopub.execute_input": "2024-04-17T20:09:14.701764Z",
     "iopub.status.busy": "2024-04-17T20:09:14.701255Z",
     "iopub.status.idle": "2024-04-17T20:09:14.716963Z",
     "shell.execute_reply": "2024-04-17T20:09:14.715815Z"
    },
    "papermill": {
     "duration": 0.023304,
     "end_time": "2024-04-17T20:09:14.719399",
     "exception": false,
     "start_time": "2024-04-17T20:09:14.696095",
     "status": "completed"
    },
    "tags": []
   },
   "outputs": [],
   "source": [
    "def init_params():\n",
    "    W1 = np.random.rand(10, 784) - 0.5\n",
    "    b1 = np.random.rand(10, 1) - 0.5\n",
    "    W2 = np.random.rand(10, 10) - 0.5\n",
    "    b2 = np.random.rand(10, 1) - 0.5\n",
    "    return W1, b1, W2, b2\n",
    "\n",
    "def ReLU(Z):\n",
    "    return np.maximum(Z,0)\n",
    "\n",
    "def softmax(Z):\n",
    "    A = np.exp(Z)/ sum(np.exp(Z))\n",
    "    return A\n",
    "\n",
    "def forward_prop(W1, b1, W2, b2, X):\n",
    "    Z1 = W1.dot(X) + b1\n",
    "    A1 = ReLU(Z1)\n",
    "    Z2 = W2.dot(A1) + b2\n",
    "    A2 = softmax(Z2)\n",
    "    return Z1, A1, Z2, A2\n",
    "\n",
    "def one_hot(Y):\n",
    "    one_hot_Y = np.zeros((Y.size, Y.max() + 1))\n",
    "    one_hot_Y[np.arange(Y.size), Y] = 1\n",
    "    one_hot_Y = one_hot_Y.T\n",
    "    return one_hot_Y\n",
    "\n",
    "def ReLU_deriv(Z):\n",
    "    return Z>0\n",
    "\n",
    "\n",
    "def backward_prop(Z1, A1, Z2, A2, W1, W2, X, Y):\n",
    "    one_hot_Y = one_hot(Y)\n",
    "    dZ2 = A2 - one_hot_Y\n",
    "    dW2 = 1 / m * dZ2.dot(A1.T)\n",
    "    db2 = 1 / m * np.sum(dZ2)\n",
    "    dZ1 = W2.T.dot(dZ2) * ReLU_deriv(Z1)\n",
    "    dW1 = 1 / m * dZ1.dot(X.T)\n",
    "    db1 = 1 / m * np.sum(dZ1)\n",
    "    return dW1, db1, dW2, db2\n",
    "\n",
    "def update_params(W1, b1, W2, b2, dW1, db1, dW2, db2,alpha):\n",
    "    W1 = W1 - alpha * dW1\n",
    "    b1 = b1 - alpha * db1\n",
    "    W2 = W2 - alpha * dW2\n",
    "    b2 = b2 - alpha * db2\n",
    "    return W1,b1,W2,b2"
   ]
  },
  {
   "cell_type": "code",
   "execution_count": 4,
   "id": "3c3888c1",
   "metadata": {
    "execution": {
     "iopub.execute_input": "2024-04-17T20:09:14.729207Z",
     "iopub.status.busy": "2024-04-17T20:09:14.727878Z",
     "iopub.status.idle": "2024-04-17T20:09:14.738924Z",
     "shell.execute_reply": "2024-04-17T20:09:14.737548Z"
    },
    "papermill": {
     "duration": 0.019187,
     "end_time": "2024-04-17T20:09:14.742109",
     "exception": false,
     "start_time": "2024-04-17T20:09:14.722922",
     "status": "completed"
    },
    "tags": []
   },
   "outputs": [],
   "source": [
    "def get_accuracy(predictions,Y):\n",
    "    print(predictions,Y)\n",
    "    return np.sum(predictions == Y)/ Y.size\n",
    "\n",
    "def get_predictions(A2):\n",
    "    return np.argmax(A2,0)\n",
    "\n",
    "def gradient_descent(X, Y, alpha, iterations):\n",
    "    W1, b1, W2, b2 = init_params()\n",
    "    for i in range(iterations):\n",
    "        Z1, A1, Z2, A2 = forward_prop(W1,b1,W2,b2,X)\n",
    "        dW1, db1, dW2, db2 = backward_prop(Z1, A1, Z2, A2, W1, W2, X, Y)\n",
    "        W1,b1,W2,b2 = update_params(W1, b1, W2, b2, dW1, db1, dW2, db2, alpha)\n",
    "        if (i % 200 == 0):\n",
    "            print (\"Iteration: \",i)\n",
    "            print (\"Accuracy: \",get_accuracy(get_predictions(A2),Y) )\n",
    "    return W1, b1, W2, b2\n",
    "        "
   ]
  },
  {
   "cell_type": "code",
   "execution_count": 5,
   "id": "02a3fee1",
   "metadata": {
    "execution": {
     "iopub.execute_input": "2024-04-17T20:09:14.751438Z",
     "iopub.status.busy": "2024-04-17T20:09:14.750541Z",
     "iopub.status.idle": "2024-04-17T20:11:44.889506Z",
     "shell.execute_reply": "2024-04-17T20:11:44.887419Z"
    },
    "papermill": {
     "duration": 150.150246,
     "end_time": "2024-04-17T20:11:44.895801",
     "exception": false,
     "start_time": "2024-04-17T20:09:14.745555",
     "status": "completed"
    },
    "tags": []
   },
   "outputs": [
    {
     "name": "stdout",
     "output_type": "stream",
     "text": [
      "Iteration:  0\n",
      "[6 4 4 ... 7 0 6] [2 7 5 ... 6 2 9]\n",
      "Accuracy:  0.10185365853658536\n",
      "Iteration:  200\n",
      "[2 7 9 ... 2 6 9] [2 7 5 ... 6 2 9]\n",
      "Accuracy:  0.7386829268292683\n",
      "Iteration:  400\n",
      "[2 7 8 ... 2 2 9] [2 7 5 ... 6 2 9]\n",
      "Accuracy:  0.8304878048780487\n",
      "Iteration:  600\n",
      "[2 7 8 ... 2 2 9] [2 7 5 ... 6 2 9]\n",
      "Accuracy:  0.8576341463414634\n",
      "Iteration:  800\n",
      "[2 7 8 ... 2 2 9] [2 7 5 ... 6 2 9]\n",
      "Accuracy:  0.8714146341463415\n"
     ]
    }
   ],
   "source": [
    "W1, b1, W2, b2 = gradient_descent(X_train, Y_train, 0.10, 1000)"
   ]
  }
 ],
 "metadata": {
  "kaggle": {
   "accelerator": "none",
   "dataSources": [
    {
     "databundleVersionId": 861823,
     "sourceId": 3004,
     "sourceType": "competition"
    }
   ],
   "dockerImageVersionId": 30684,
   "isGpuEnabled": false,
   "isInternetEnabled": false,
   "language": "python",
   "sourceType": "notebook"
  },
  "kernelspec": {
   "display_name": "Python 3",
   "language": "python",
   "name": "python3"
  },
  "language_info": {
   "codemirror_mode": {
    "name": "ipython",
    "version": 3
   },
   "file_extension": ".py",
   "mimetype": "text/x-python",
   "name": "python",
   "nbconvert_exporter": "python",
   "pygments_lexer": "ipython3",
   "version": "3.10.13"
  },
  "papermill": {
   "default_parameters": {},
   "duration": 161.770479,
   "end_time": "2024-04-17T20:11:45.735456",
   "environment_variables": {},
   "exception": null,
   "input_path": "__notebook__.ipynb",
   "output_path": "__notebook__.ipynb",
   "parameters": {},
   "start_time": "2024-04-17T20:09:03.964977",
   "version": "2.5.0"
  }
 },
 "nbformat": 4,
 "nbformat_minor": 5
}
